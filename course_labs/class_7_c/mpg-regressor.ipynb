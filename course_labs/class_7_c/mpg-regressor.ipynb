{
 "cells": [
  {
   "cell_type": "markdown",
   "id": "9debe798-106b-4ed3-a81c-2cf82e5b44a4",
   "metadata": {},
   "source": [
    "# Vertex AI Training and Endpoints\n",
    "### Predict the fuel efficiency of a vehicle"
   ]
  },
  {
   "cell_type": "markdown",
   "id": "cefacb71-d0a8-4cf2-86aa-d897ed65e8bb",
   "metadata": {},
   "source": [
    "### Environment setup"
   ]
  },
  {
   "cell_type": "code",
   "execution_count": 1,
   "id": "35381f1f-bad5-4c5c-9e69-953a9e7bed74",
   "metadata": {},
   "outputs": [
    {
     "name": "stdout",
     "output_type": "stream",
     "text": [
      "Updated property [core/project].\n"
     ]
    }
   ],
   "source": [
    "# Setting project\n",
    "!gcloud config set project itam-dpa-2022"
   ]
  },
  {
   "cell_type": "code",
   "execution_count": 2,
   "id": "d38e580c-aa39-4294-a12b-972b33ed6adf",
   "metadata": {},
   "outputs": [
    {
     "name": "stdout",
     "output_type": "stream",
     "text": [
      "Operation \"operations/acat.p2-171673689672-0e3b5b44-40d3-4641-91b2-98d8da6d83c9\" finished successfully.\n"
     ]
    }
   ],
   "source": [
    "# Enable all the APIs that we are going to use\n",
    "! gcloud services enable compute.googleapis.com \\\n",
    "                       containerregistry.googleapis.com \\\n",
    "                       aiplatform.googleapis.com \\\n",
    "                       cloudbuild.googleapis.com"
   ]
  },
  {
   "cell_type": "code",
   "execution_count": 3,
   "id": "99b0a0e0-e926-4060-977b-6e9934d166d0",
   "metadata": {},
   "outputs": [
    {
     "name": "stdout",
     "output_type": "stream",
     "text": [
      "Creating gs://itam-dpa-2022-model2/...\n",
      "ServiceException: 409 A Cloud Storage bucket named 'itam-dpa-2022-model2' already exists. Try another name. Bucket names must be globally unique across all Google Cloud projects, including those outside of your organization.\n"
     ]
    }
   ],
   "source": [
    "# Creating a new bucket (in a specific region)\n",
    "!gsutil mb -l us-central1 gs://itam-dpa-2022-model2"
   ]
  },
  {
   "cell_type": "markdown",
   "id": "45a6a52a-8c7a-4d6e-8bf4-a202b94299c0",
   "metadata": {},
   "source": [
    "### Modeling"
   ]
  },
  {
   "cell_type": "code",
   "execution_count": 4,
   "id": "15f40bca-80fb-4860-a18a-f3724bd3d782",
   "metadata": {},
   "outputs": [
    {
     "name": "stdout",
     "output_type": "stream",
     "text": [
      "2.8.0\n"
     ]
    }
   ],
   "source": [
    "import numpy as np\n",
    "import pandas as pd\n",
    "import pathlib\n",
    "import tensorflow as tf\n",
    "\n",
    "from tensorflow import keras\n",
    "from tensorflow.keras import layers\n",
    "\n",
    "print(tf.__version__)"
   ]
  },
  {
   "cell_type": "code",
   "execution_count": 5,
   "id": "e2d4861e-4987-45df-a820-d0f457f8434a",
   "metadata": {},
   "outputs": [],
   "source": [
    "BUCKET = \"gs://itam-dpa-2022-model2\""
   ]
  },
  {
   "cell_type": "code",
   "execution_count": 6,
   "id": "5dfddf83-d4a8-4a2b-9000-bda65431edd5",
   "metadata": {},
   "outputs": [
    {
     "data": {
      "text/plain": [
       "(398, 8)"
      ]
     },
     "execution_count": 6,
     "metadata": {},
     "output_type": "execute_result"
    }
   ],
   "source": [
    "# Import data it using pandas\n",
    "\n",
    "\"\"\"## The Auto MPG dataset\n",
    "\n",
    "The dataset is available from the [UCI Machine Learning Repository](https://archive.ics.uci.edu/ml/).\n",
    "\n",
    "### Get the data\n",
    "First download the dataset.\n",
    "\"\"\"\n",
    "\n",
    "dataset_path = \"https://storage.googleapis.com/io-vertex-codelab/auto-mpg.csv\"\n",
    "dataset = pd.read_csv(dataset_path, na_values = \"?\")\n",
    "dataset.pop(\"car name\")\n",
    "dataset.shape"
   ]
  },
  {
   "cell_type": "code",
   "execution_count": 7,
   "id": "681c12a0-a2f9-4563-ae4e-28221c83f56c",
   "metadata": {},
   "outputs": [
    {
     "data": {
      "text/html": [
       "<div>\n",
       "<style scoped>\n",
       "    .dataframe tbody tr th:only-of-type {\n",
       "        vertical-align: middle;\n",
       "    }\n",
       "\n",
       "    .dataframe tbody tr th {\n",
       "        vertical-align: top;\n",
       "    }\n",
       "\n",
       "    .dataframe thead th {\n",
       "        text-align: right;\n",
       "    }\n",
       "</style>\n",
       "<table border=\"1\" class=\"dataframe\">\n",
       "  <thead>\n",
       "    <tr style=\"text-align: right;\">\n",
       "      <th></th>\n",
       "      <th>mpg</th>\n",
       "      <th>cylinders</th>\n",
       "      <th>displacement</th>\n",
       "      <th>horsepower</th>\n",
       "      <th>weight</th>\n",
       "      <th>acceleration</th>\n",
       "      <th>model year</th>\n",
       "      <th>origin</th>\n",
       "    </tr>\n",
       "  </thead>\n",
       "  <tbody>\n",
       "    <tr>\n",
       "      <th>393</th>\n",
       "      <td>27.0</td>\n",
       "      <td>4</td>\n",
       "      <td>140.0</td>\n",
       "      <td>86.0</td>\n",
       "      <td>2790</td>\n",
       "      <td>15.6</td>\n",
       "      <td>82</td>\n",
       "      <td>1</td>\n",
       "    </tr>\n",
       "    <tr>\n",
       "      <th>394</th>\n",
       "      <td>44.0</td>\n",
       "      <td>4</td>\n",
       "      <td>97.0</td>\n",
       "      <td>52.0</td>\n",
       "      <td>2130</td>\n",
       "      <td>24.6</td>\n",
       "      <td>82</td>\n",
       "      <td>2</td>\n",
       "    </tr>\n",
       "    <tr>\n",
       "      <th>395</th>\n",
       "      <td>32.0</td>\n",
       "      <td>4</td>\n",
       "      <td>135.0</td>\n",
       "      <td>84.0</td>\n",
       "      <td>2295</td>\n",
       "      <td>11.6</td>\n",
       "      <td>82</td>\n",
       "      <td>1</td>\n",
       "    </tr>\n",
       "    <tr>\n",
       "      <th>396</th>\n",
       "      <td>28.0</td>\n",
       "      <td>4</td>\n",
       "      <td>120.0</td>\n",
       "      <td>79.0</td>\n",
       "      <td>2625</td>\n",
       "      <td>18.6</td>\n",
       "      <td>82</td>\n",
       "      <td>1</td>\n",
       "    </tr>\n",
       "    <tr>\n",
       "      <th>397</th>\n",
       "      <td>31.0</td>\n",
       "      <td>4</td>\n",
       "      <td>119.0</td>\n",
       "      <td>82.0</td>\n",
       "      <td>2720</td>\n",
       "      <td>19.4</td>\n",
       "      <td>82</td>\n",
       "      <td>1</td>\n",
       "    </tr>\n",
       "  </tbody>\n",
       "</table>\n",
       "</div>"
      ],
      "text/plain": [
       "      mpg  cylinders  displacement  horsepower  weight  acceleration  \\\n",
       "393  27.0          4         140.0        86.0    2790          15.6   \n",
       "394  44.0          4          97.0        52.0    2130          24.6   \n",
       "395  32.0          4         135.0        84.0    2295          11.6   \n",
       "396  28.0          4         120.0        79.0    2625          18.6   \n",
       "397  31.0          4         119.0        82.0    2720          19.4   \n",
       "\n",
       "     model year  origin  \n",
       "393          82       1  \n",
       "394          82       2  \n",
       "395          82       1  \n",
       "396          82       1  \n",
       "397          82       1  "
      ]
     },
     "execution_count": 7,
     "metadata": {},
     "output_type": "execute_result"
    }
   ],
   "source": [
    "dataset.tail()"
   ]
  },
  {
   "cell_type": "code",
   "execution_count": 8,
   "id": "38b75ed2-c8ee-4e8b-847f-35711380fbbb",
   "metadata": {},
   "outputs": [
    {
     "data": {
      "text/plain": [
       "mpg             0\n",
       "cylinders       0\n",
       "displacement    0\n",
       "horsepower      6\n",
       "weight          0\n",
       "acceleration    0\n",
       "model year      0\n",
       "origin          0\n",
       "dtype: int64"
      ]
     },
     "execution_count": 8,
     "metadata": {},
     "output_type": "execute_result"
    }
   ],
   "source": [
    "# Checking NAs\n",
    "dataset.isna().sum()"
   ]
  },
  {
   "cell_type": "code",
   "execution_count": 9,
   "id": "407c8a83-d76c-4d18-b666-7314332e29cc",
   "metadata": {},
   "outputs": [
    {
     "name": "stdout",
     "output_type": "stream",
     "text": [
      "(392, 8)\n"
     ]
    }
   ],
   "source": [
    "# Dropping those values\n",
    "dataset = dataset.dropna()\n",
    "print(dataset.shape)"
   ]
  },
  {
   "cell_type": "code",
   "execution_count": 10,
   "id": "4fb861b3-effc-4ca9-bb25-b12d48fbd56c",
   "metadata": {},
   "outputs": [
    {
     "data": {
      "text/html": [
       "<div>\n",
       "<style scoped>\n",
       "    .dataframe tbody tr th:only-of-type {\n",
       "        vertical-align: middle;\n",
       "    }\n",
       "\n",
       "    .dataframe tbody tr th {\n",
       "        vertical-align: top;\n",
       "    }\n",
       "\n",
       "    .dataframe thead th {\n",
       "        text-align: right;\n",
       "    }\n",
       "</style>\n",
       "<table border=\"1\" class=\"dataframe\">\n",
       "  <thead>\n",
       "    <tr style=\"text-align: right;\">\n",
       "      <th></th>\n",
       "      <th>mpg</th>\n",
       "      <th>cylinders</th>\n",
       "      <th>displacement</th>\n",
       "      <th>horsepower</th>\n",
       "      <th>weight</th>\n",
       "      <th>acceleration</th>\n",
       "      <th>model year</th>\n",
       "      <th>origin</th>\n",
       "    </tr>\n",
       "  </thead>\n",
       "  <tbody>\n",
       "    <tr>\n",
       "      <th>0</th>\n",
       "      <td>18.0</td>\n",
       "      <td>8</td>\n",
       "      <td>307.0</td>\n",
       "      <td>130.0</td>\n",
       "      <td>3504</td>\n",
       "      <td>12.0</td>\n",
       "      <td>70</td>\n",
       "      <td>1</td>\n",
       "    </tr>\n",
       "    <tr>\n",
       "      <th>1</th>\n",
       "      <td>15.0</td>\n",
       "      <td>8</td>\n",
       "      <td>350.0</td>\n",
       "      <td>165.0</td>\n",
       "      <td>3693</td>\n",
       "      <td>11.5</td>\n",
       "      <td>70</td>\n",
       "      <td>1</td>\n",
       "    </tr>\n",
       "    <tr>\n",
       "      <th>2</th>\n",
       "      <td>18.0</td>\n",
       "      <td>8</td>\n",
       "      <td>318.0</td>\n",
       "      <td>150.0</td>\n",
       "      <td>3436</td>\n",
       "      <td>11.0</td>\n",
       "      <td>70</td>\n",
       "      <td>1</td>\n",
       "    </tr>\n",
       "    <tr>\n",
       "      <th>3</th>\n",
       "      <td>16.0</td>\n",
       "      <td>8</td>\n",
       "      <td>304.0</td>\n",
       "      <td>150.0</td>\n",
       "      <td>3433</td>\n",
       "      <td>12.0</td>\n",
       "      <td>70</td>\n",
       "      <td>1</td>\n",
       "    </tr>\n",
       "    <tr>\n",
       "      <th>4</th>\n",
       "      <td>17.0</td>\n",
       "      <td>8</td>\n",
       "      <td>302.0</td>\n",
       "      <td>140.0</td>\n",
       "      <td>3449</td>\n",
       "      <td>10.5</td>\n",
       "      <td>70</td>\n",
       "      <td>1</td>\n",
       "    </tr>\n",
       "    <tr>\n",
       "      <th>...</th>\n",
       "      <td>...</td>\n",
       "      <td>...</td>\n",
       "      <td>...</td>\n",
       "      <td>...</td>\n",
       "      <td>...</td>\n",
       "      <td>...</td>\n",
       "      <td>...</td>\n",
       "      <td>...</td>\n",
       "    </tr>\n",
       "    <tr>\n",
       "      <th>393</th>\n",
       "      <td>27.0</td>\n",
       "      <td>4</td>\n",
       "      <td>140.0</td>\n",
       "      <td>86.0</td>\n",
       "      <td>2790</td>\n",
       "      <td>15.6</td>\n",
       "      <td>82</td>\n",
       "      <td>1</td>\n",
       "    </tr>\n",
       "    <tr>\n",
       "      <th>394</th>\n",
       "      <td>44.0</td>\n",
       "      <td>4</td>\n",
       "      <td>97.0</td>\n",
       "      <td>52.0</td>\n",
       "      <td>2130</td>\n",
       "      <td>24.6</td>\n",
       "      <td>82</td>\n",
       "      <td>2</td>\n",
       "    </tr>\n",
       "    <tr>\n",
       "      <th>395</th>\n",
       "      <td>32.0</td>\n",
       "      <td>4</td>\n",
       "      <td>135.0</td>\n",
       "      <td>84.0</td>\n",
       "      <td>2295</td>\n",
       "      <td>11.6</td>\n",
       "      <td>82</td>\n",
       "      <td>1</td>\n",
       "    </tr>\n",
       "    <tr>\n",
       "      <th>396</th>\n",
       "      <td>28.0</td>\n",
       "      <td>4</td>\n",
       "      <td>120.0</td>\n",
       "      <td>79.0</td>\n",
       "      <td>2625</td>\n",
       "      <td>18.6</td>\n",
       "      <td>82</td>\n",
       "      <td>1</td>\n",
       "    </tr>\n",
       "    <tr>\n",
       "      <th>397</th>\n",
       "      <td>31.0</td>\n",
       "      <td>4</td>\n",
       "      <td>119.0</td>\n",
       "      <td>82.0</td>\n",
       "      <td>2720</td>\n",
       "      <td>19.4</td>\n",
       "      <td>82</td>\n",
       "      <td>1</td>\n",
       "    </tr>\n",
       "  </tbody>\n",
       "</table>\n",
       "<p>392 rows × 8 columns</p>\n",
       "</div>"
      ],
      "text/plain": [
       "      mpg  cylinders  displacement  horsepower  weight  acceleration  \\\n",
       "0    18.0          8         307.0       130.0    3504          12.0   \n",
       "1    15.0          8         350.0       165.0    3693          11.5   \n",
       "2    18.0          8         318.0       150.0    3436          11.0   \n",
       "3    16.0          8         304.0       150.0    3433          12.0   \n",
       "4    17.0          8         302.0       140.0    3449          10.5   \n",
       "..    ...        ...           ...         ...     ...           ...   \n",
       "393  27.0          4         140.0        86.0    2790          15.6   \n",
       "394  44.0          4          97.0        52.0    2130          24.6   \n",
       "395  32.0          4         135.0        84.0    2295          11.6   \n",
       "396  28.0          4         120.0        79.0    2625          18.6   \n",
       "397  31.0          4         119.0        82.0    2720          19.4   \n",
       "\n",
       "     model year  origin  \n",
       "0            70       1  \n",
       "1            70       1  \n",
       "2            70       1  \n",
       "3            70       1  \n",
       "4            70       1  \n",
       "..          ...     ...  \n",
       "393          82       1  \n",
       "394          82       2  \n",
       "395          82       1  \n",
       "396          82       1  \n",
       "397          82       1  \n",
       "\n",
       "[392 rows x 8 columns]"
      ]
     },
     "execution_count": 10,
     "metadata": {},
     "output_type": "execute_result"
    }
   ],
   "source": [
    "dataset"
   ]
  },
  {
   "cell_type": "markdown",
   "id": "b3ed18ef-2d83-48af-8080-e5f27676867f",
   "metadata": {},
   "source": [
    "### Feature Engineering"
   ]
  },
  {
   "cell_type": "code",
   "execution_count": 11,
   "id": "3f792202-4a46-4b20-93ec-688d7fb0283a",
   "metadata": {},
   "outputs": [
    {
     "data": {
      "text/html": [
       "<div>\n",
       "<style scoped>\n",
       "    .dataframe tbody tr th:only-of-type {\n",
       "        vertical-align: middle;\n",
       "    }\n",
       "\n",
       "    .dataframe tbody tr th {\n",
       "        vertical-align: top;\n",
       "    }\n",
       "\n",
       "    .dataframe thead th {\n",
       "        text-align: right;\n",
       "    }\n",
       "</style>\n",
       "<table border=\"1\" class=\"dataframe\">\n",
       "  <thead>\n",
       "    <tr style=\"text-align: right;\">\n",
       "      <th></th>\n",
       "      <th>mpg</th>\n",
       "      <th>cylinders</th>\n",
       "      <th>displacement</th>\n",
       "      <th>horsepower</th>\n",
       "      <th>weight</th>\n",
       "      <th>acceleration</th>\n",
       "      <th>model year</th>\n",
       "      <th>Europe</th>\n",
       "      <th>Japan</th>\n",
       "      <th>USA</th>\n",
       "    </tr>\n",
       "  </thead>\n",
       "  <tbody>\n",
       "    <tr>\n",
       "      <th>393</th>\n",
       "      <td>27.0</td>\n",
       "      <td>4</td>\n",
       "      <td>140.0</td>\n",
       "      <td>86.0</td>\n",
       "      <td>2790</td>\n",
       "      <td>15.6</td>\n",
       "      <td>82</td>\n",
       "      <td>0</td>\n",
       "      <td>0</td>\n",
       "      <td>1</td>\n",
       "    </tr>\n",
       "    <tr>\n",
       "      <th>394</th>\n",
       "      <td>44.0</td>\n",
       "      <td>4</td>\n",
       "      <td>97.0</td>\n",
       "      <td>52.0</td>\n",
       "      <td>2130</td>\n",
       "      <td>24.6</td>\n",
       "      <td>82</td>\n",
       "      <td>1</td>\n",
       "      <td>0</td>\n",
       "      <td>0</td>\n",
       "    </tr>\n",
       "    <tr>\n",
       "      <th>395</th>\n",
       "      <td>32.0</td>\n",
       "      <td>4</td>\n",
       "      <td>135.0</td>\n",
       "      <td>84.0</td>\n",
       "      <td>2295</td>\n",
       "      <td>11.6</td>\n",
       "      <td>82</td>\n",
       "      <td>0</td>\n",
       "      <td>0</td>\n",
       "      <td>1</td>\n",
       "    </tr>\n",
       "    <tr>\n",
       "      <th>396</th>\n",
       "      <td>28.0</td>\n",
       "      <td>4</td>\n",
       "      <td>120.0</td>\n",
       "      <td>79.0</td>\n",
       "      <td>2625</td>\n",
       "      <td>18.6</td>\n",
       "      <td>82</td>\n",
       "      <td>0</td>\n",
       "      <td>0</td>\n",
       "      <td>1</td>\n",
       "    </tr>\n",
       "    <tr>\n",
       "      <th>397</th>\n",
       "      <td>31.0</td>\n",
       "      <td>4</td>\n",
       "      <td>119.0</td>\n",
       "      <td>82.0</td>\n",
       "      <td>2720</td>\n",
       "      <td>19.4</td>\n",
       "      <td>82</td>\n",
       "      <td>0</td>\n",
       "      <td>0</td>\n",
       "      <td>1</td>\n",
       "    </tr>\n",
       "  </tbody>\n",
       "</table>\n",
       "</div>"
      ],
      "text/plain": [
       "      mpg  cylinders  displacement  horsepower  weight  acceleration  \\\n",
       "393  27.0          4         140.0        86.0    2790          15.6   \n",
       "394  44.0          4          97.0        52.0    2130          24.6   \n",
       "395  32.0          4         135.0        84.0    2295          11.6   \n",
       "396  28.0          4         120.0        79.0    2625          18.6   \n",
       "397  31.0          4         119.0        82.0    2720          19.4   \n",
       "\n",
       "     model year  Europe  Japan  USA  \n",
       "393          82       0      0    1  \n",
       "394          82       1      0    0  \n",
       "395          82       0      0    1  \n",
       "396          82       0      0    1  \n",
       "397          82       0      0    1  "
      ]
     },
     "execution_count": 11,
     "metadata": {},
     "output_type": "execute_result"
    }
   ],
   "source": [
    "# One-hot-encoding \n",
    "dataset['origin'] = dataset['origin'].map({1: 'USA', 2: 'Europe', 3: 'Japan'})\n",
    "dataset = pd.get_dummies(dataset, prefix='', prefix_sep='')\n",
    "dataset.tail()"
   ]
  },
  {
   "cell_type": "code",
   "execution_count": 12,
   "id": "1e696bbd-8ec7-4ef8-8dca-2b7bd5dbc4b4",
   "metadata": {},
   "outputs": [],
   "source": [
    "# Split data (X's)\n",
    "train_dataset = dataset.sample(frac=0.8,random_state=0)\n",
    "test_dataset = dataset.drop(train_dataset.index)"
   ]
  },
  {
   "cell_type": "code",
   "execution_count": 13,
   "id": "64ed2e66-aebd-44a7-bef1-ab82879a3ef1",
   "metadata": {},
   "outputs": [
    {
     "data": {
      "text/html": [
       "<div>\n",
       "<style scoped>\n",
       "    .dataframe tbody tr th:only-of-type {\n",
       "        vertical-align: middle;\n",
       "    }\n",
       "\n",
       "    .dataframe tbody tr th {\n",
       "        vertical-align: top;\n",
       "    }\n",
       "\n",
       "    .dataframe thead th {\n",
       "        text-align: right;\n",
       "    }\n",
       "</style>\n",
       "<table border=\"1\" class=\"dataframe\">\n",
       "  <thead>\n",
       "    <tr style=\"text-align: right;\">\n",
       "      <th></th>\n",
       "      <th>count</th>\n",
       "      <th>mean</th>\n",
       "      <th>std</th>\n",
       "      <th>min</th>\n",
       "      <th>25%</th>\n",
       "      <th>50%</th>\n",
       "      <th>75%</th>\n",
       "      <th>max</th>\n",
       "    </tr>\n",
       "  </thead>\n",
       "  <tbody>\n",
       "    <tr>\n",
       "      <th>cylinders</th>\n",
       "      <td>314.0</td>\n",
       "      <td>5.477707</td>\n",
       "      <td>1.699788</td>\n",
       "      <td>3.0</td>\n",
       "      <td>4.00</td>\n",
       "      <td>4.0</td>\n",
       "      <td>8.00</td>\n",
       "      <td>8.0</td>\n",
       "    </tr>\n",
       "    <tr>\n",
       "      <th>displacement</th>\n",
       "      <td>314.0</td>\n",
       "      <td>195.318471</td>\n",
       "      <td>104.331589</td>\n",
       "      <td>68.0</td>\n",
       "      <td>105.50</td>\n",
       "      <td>151.0</td>\n",
       "      <td>265.75</td>\n",
       "      <td>455.0</td>\n",
       "    </tr>\n",
       "    <tr>\n",
       "      <th>horsepower</th>\n",
       "      <td>314.0</td>\n",
       "      <td>104.869427</td>\n",
       "      <td>38.096214</td>\n",
       "      <td>46.0</td>\n",
       "      <td>76.25</td>\n",
       "      <td>94.5</td>\n",
       "      <td>128.00</td>\n",
       "      <td>225.0</td>\n",
       "    </tr>\n",
       "    <tr>\n",
       "      <th>weight</th>\n",
       "      <td>314.0</td>\n",
       "      <td>2990.251592</td>\n",
       "      <td>843.898596</td>\n",
       "      <td>1649.0</td>\n",
       "      <td>2256.50</td>\n",
       "      <td>2822.5</td>\n",
       "      <td>3608.00</td>\n",
       "      <td>5140.0</td>\n",
       "    </tr>\n",
       "    <tr>\n",
       "      <th>acceleration</th>\n",
       "      <td>314.0</td>\n",
       "      <td>15.559236</td>\n",
       "      <td>2.789230</td>\n",
       "      <td>8.0</td>\n",
       "      <td>13.80</td>\n",
       "      <td>15.5</td>\n",
       "      <td>17.20</td>\n",
       "      <td>24.8</td>\n",
       "    </tr>\n",
       "    <tr>\n",
       "      <th>model year</th>\n",
       "      <td>314.0</td>\n",
       "      <td>75.898089</td>\n",
       "      <td>3.675642</td>\n",
       "      <td>70.0</td>\n",
       "      <td>73.00</td>\n",
       "      <td>76.0</td>\n",
       "      <td>79.00</td>\n",
       "      <td>82.0</td>\n",
       "    </tr>\n",
       "    <tr>\n",
       "      <th>Europe</th>\n",
       "      <td>314.0</td>\n",
       "      <td>0.178344</td>\n",
       "      <td>0.383413</td>\n",
       "      <td>0.0</td>\n",
       "      <td>0.00</td>\n",
       "      <td>0.0</td>\n",
       "      <td>0.00</td>\n",
       "      <td>1.0</td>\n",
       "    </tr>\n",
       "    <tr>\n",
       "      <th>Japan</th>\n",
       "      <td>314.0</td>\n",
       "      <td>0.197452</td>\n",
       "      <td>0.398712</td>\n",
       "      <td>0.0</td>\n",
       "      <td>0.00</td>\n",
       "      <td>0.0</td>\n",
       "      <td>0.00</td>\n",
       "      <td>1.0</td>\n",
       "    </tr>\n",
       "    <tr>\n",
       "      <th>USA</th>\n",
       "      <td>314.0</td>\n",
       "      <td>0.624204</td>\n",
       "      <td>0.485101</td>\n",
       "      <td>0.0</td>\n",
       "      <td>0.00</td>\n",
       "      <td>1.0</td>\n",
       "      <td>1.00</td>\n",
       "      <td>1.0</td>\n",
       "    </tr>\n",
       "  </tbody>\n",
       "</table>\n",
       "</div>"
      ],
      "text/plain": [
       "              count         mean         std     min      25%     50%  \\\n",
       "cylinders     314.0     5.477707    1.699788     3.0     4.00     4.0   \n",
       "displacement  314.0   195.318471  104.331589    68.0   105.50   151.0   \n",
       "horsepower    314.0   104.869427   38.096214    46.0    76.25    94.5   \n",
       "weight        314.0  2990.251592  843.898596  1649.0  2256.50  2822.5   \n",
       "acceleration  314.0    15.559236    2.789230     8.0    13.80    15.5   \n",
       "model year    314.0    75.898089    3.675642    70.0    73.00    76.0   \n",
       "Europe        314.0     0.178344    0.383413     0.0     0.00     0.0   \n",
       "Japan         314.0     0.197452    0.398712     0.0     0.00     0.0   \n",
       "USA           314.0     0.624204    0.485101     0.0     0.00     1.0   \n",
       "\n",
       "                  75%     max  \n",
       "cylinders        8.00     8.0  \n",
       "displacement   265.75   455.0  \n",
       "horsepower     128.00   225.0  \n",
       "weight        3608.00  5140.0  \n",
       "acceleration    17.20    24.8  \n",
       "model year      79.00    82.0  \n",
       "Europe           0.00     1.0  \n",
       "Japan            0.00     1.0  \n",
       "USA              1.00     1.0  "
      ]
     },
     "execution_count": 13,
     "metadata": {},
     "output_type": "execute_result"
    }
   ],
   "source": [
    "# Calculate statistics for normalization\n",
    "train_stats = train_dataset.describe()\n",
    "train_stats.pop(\"mpg\")\n",
    "train_stats = train_stats.transpose()\n",
    "train_stats"
   ]
  },
  {
   "cell_type": "code",
   "execution_count": 14,
   "id": "779d16ee-5d40-474d-a890-5d73cf95dafe",
   "metadata": {},
   "outputs": [],
   "source": [
    "# Getting labels (Y's)\n",
    "train_labels = train_dataset.pop('mpg')\n",
    "test_labels = test_dataset.pop('mpg')"
   ]
  },
  {
   "cell_type": "code",
   "execution_count": 15,
   "id": "945a6827-fed5-4b17-bb35-a1f4470fccb3",
   "metadata": {},
   "outputs": [],
   "source": [
    "# Normalizing dataset\n",
    "def norm(x):\n",
    "  return (x - train_stats['mean']) / train_stats['std']\n",
    "\n",
    "normed_train_data = norm(train_dataset)\n",
    "normed_test_data = norm(test_dataset)"
   ]
  },
  {
   "cell_type": "code",
   "execution_count": 16,
   "id": "e9f9153e-5ade-4521-92d1-2c43efc7b379",
   "metadata": {},
   "outputs": [
    {
     "data": {
      "text/html": [
       "<div>\n",
       "<style scoped>\n",
       "    .dataframe tbody tr th:only-of-type {\n",
       "        vertical-align: middle;\n",
       "    }\n",
       "\n",
       "    .dataframe tbody tr th {\n",
       "        vertical-align: top;\n",
       "    }\n",
       "\n",
       "    .dataframe thead th {\n",
       "        text-align: right;\n",
       "    }\n",
       "</style>\n",
       "<table border=\"1\" class=\"dataframe\">\n",
       "  <thead>\n",
       "    <tr style=\"text-align: right;\">\n",
       "      <th></th>\n",
       "      <th>cylinders</th>\n",
       "      <th>displacement</th>\n",
       "      <th>horsepower</th>\n",
       "      <th>weight</th>\n",
       "      <th>acceleration</th>\n",
       "      <th>model year</th>\n",
       "      <th>Europe</th>\n",
       "      <th>Japan</th>\n",
       "      <th>USA</th>\n",
       "    </tr>\n",
       "  </thead>\n",
       "  <tbody>\n",
       "    <tr>\n",
       "      <th>146</th>\n",
       "      <td>-0.869348</td>\n",
       "      <td>-1.009459</td>\n",
       "      <td>-0.784052</td>\n",
       "      <td>-1.025303</td>\n",
       "      <td>-0.379759</td>\n",
       "      <td>-0.516397</td>\n",
       "      <td>-0.465148</td>\n",
       "      <td>-0.495225</td>\n",
       "      <td>0.774676</td>\n",
       "    </tr>\n",
       "    <tr>\n",
       "      <th>282</th>\n",
       "      <td>-0.869348</td>\n",
       "      <td>-0.530218</td>\n",
       "      <td>-0.442811</td>\n",
       "      <td>-0.118796</td>\n",
       "      <td>0.624102</td>\n",
       "      <td>0.843910</td>\n",
       "      <td>-0.465148</td>\n",
       "      <td>-0.495225</td>\n",
       "      <td>0.774676</td>\n",
       "    </tr>\n",
       "    <tr>\n",
       "      <th>69</th>\n",
       "      <td>1.483887</td>\n",
       "      <td>1.482595</td>\n",
       "      <td>1.447140</td>\n",
       "      <td>1.736877</td>\n",
       "      <td>-0.738281</td>\n",
       "      <td>-1.060519</td>\n",
       "      <td>-0.465148</td>\n",
       "      <td>-0.495225</td>\n",
       "      <td>0.774676</td>\n",
       "    </tr>\n",
       "    <tr>\n",
       "      <th>378</th>\n",
       "      <td>-0.869348</td>\n",
       "      <td>-0.865687</td>\n",
       "      <td>-1.099044</td>\n",
       "      <td>-1.025303</td>\n",
       "      <td>-0.308055</td>\n",
       "      <td>1.660094</td>\n",
       "      <td>-0.465148</td>\n",
       "      <td>-0.495225</td>\n",
       "      <td>0.774676</td>\n",
       "    </tr>\n",
       "    <tr>\n",
       "      <th>331</th>\n",
       "      <td>-0.869348</td>\n",
       "      <td>-0.942365</td>\n",
       "      <td>-0.994047</td>\n",
       "      <td>-1.001603</td>\n",
       "      <td>0.875068</td>\n",
       "      <td>1.115971</td>\n",
       "      <td>-0.465148</td>\n",
       "      <td>2.012852</td>\n",
       "      <td>-1.286751</td>\n",
       "    </tr>\n",
       "  </tbody>\n",
       "</table>\n",
       "</div>"
      ],
      "text/plain": [
       "     cylinders  displacement  horsepower    weight  acceleration  model year  \\\n",
       "146  -0.869348     -1.009459   -0.784052 -1.025303     -0.379759   -0.516397   \n",
       "282  -0.869348     -0.530218   -0.442811 -0.118796      0.624102    0.843910   \n",
       "69    1.483887      1.482595    1.447140  1.736877     -0.738281   -1.060519   \n",
       "378  -0.869348     -0.865687   -1.099044 -1.025303     -0.308055    1.660094   \n",
       "331  -0.869348     -0.942365   -0.994047 -1.001603      0.875068    1.115971   \n",
       "\n",
       "       Europe     Japan       USA  \n",
       "146 -0.465148 -0.495225  0.774676  \n",
       "282 -0.465148 -0.495225  0.774676  \n",
       "69  -0.465148 -0.495225  0.774676  \n",
       "378 -0.465148 -0.495225  0.774676  \n",
       "331 -0.465148  2.012852 -1.286751  "
      ]
     },
     "execution_count": 16,
     "metadata": {},
     "output_type": "execute_result"
    }
   ],
   "source": [
    "normed_train_data.head()"
   ]
  },
  {
   "cell_type": "markdown",
   "id": "ab26e6b2-14b0-44c4-a43d-cb71fa3f49db",
   "metadata": {},
   "source": [
    "### About feature engineering and data leakeage\n",
    "The statistics used to normalize the inputs here (mean and standard deviation) need to be applied to any other data that is fed to the model, along with the one-hot encoding that we did earlier.  That includes the test set as well as live data when the model is used in production.\n"
   ]
  },
  {
   "cell_type": "markdown",
   "id": "47efed35-39aa-41d5-9ca0-6434b0156abf",
   "metadata": {},
   "source": [
    "# Training a model\n",
    "\n",
    "Let's build our model. Here, we'll use a `Sequential` model with two densely connected hidden layers, and an output layer that returns a single, continuous value. The model building steps are wrapped in a function, `build_model`, since we'll create a second model, later on."
   ]
  },
  {
   "cell_type": "code",
   "execution_count": 17,
   "id": "0ad2e243-80fb-4d84-809c-d947a52fb708",
   "metadata": {},
   "outputs": [],
   "source": [
    "def build_model():\n",
    "  model = keras.Sequential([\n",
    "    layers.Dense(64, activation='relu', input_shape=[len(train_dataset.keys())]),\n",
    "    layers.Dense(64, activation='relu'),\n",
    "    layers.Dense(1)\n",
    "  ])\n",
    "\n",
    "  optimizer = tf.keras.optimizers.RMSprop(0.001)\n",
    "\n",
    "  model.compile(loss='mse', optimizer=optimizer, metrics=['mae', 'mse'])\n",
    "  return model"
   ]
  },
  {
   "cell_type": "code",
   "execution_count": 18,
   "id": "d2c5083c-b6ae-4c83-ac71-fb908cea9d1f",
   "metadata": {},
   "outputs": [
    {
     "data": {
      "text/plain": [
       "9"
      ]
     },
     "execution_count": 18,
     "metadata": {},
     "output_type": "execute_result"
    }
   ],
   "source": [
    "len(train_dataset.keys())"
   ]
  },
  {
   "cell_type": "code",
   "execution_count": 19,
   "id": "8548971a-2501-4371-bf92-d15c90f3044c",
   "metadata": {},
   "outputs": [
    {
     "name": "stderr",
     "output_type": "stream",
     "text": [
      "2022-03-24 20:15:10.602199: W tensorflow/stream_executor/platform/default/dso_loader.cc:64] Could not load dynamic library 'libcuda.so.1'; dlerror: libcuda.so.1: cannot open shared object file: No such file or directory; LD_LIBRARY_PATH: /usr/local/cuda/lib64:/usr/local/cuda/lib:/usr/local/lib/x86_64-linux-gnu:/usr/local/nvidia/lib:/usr/local/nvidia/lib64:/usr/local/nvidia/lib:/usr/local/nvidia/lib64\n",
      "2022-03-24 20:15:10.602276: W tensorflow/stream_executor/cuda/cuda_driver.cc:269] failed call to cuInit: UNKNOWN ERROR (303)\n",
      "2022-03-24 20:15:10.602321: I tensorflow/stream_executor/cuda/cuda_diagnostics.cc:156] kernel driver does not appear to be running on this host (vm-1a1132b4-6adb-45c9-b1ce-76bd1b8b9bc5): /proc/driver/nvidia/version does not exist\n",
      "2022-03-24 20:15:10.604838: I tensorflow/core/platform/cpu_feature_guard.cc:151] This TensorFlow binary is optimized with oneAPI Deep Neural Network Library (oneDNN) to use the following CPU instructions in performance-critical operations:  AVX2 FMA\n",
      "To enable them in other operations, rebuild TensorFlow with the appropriate compiler flags.\n"
     ]
    },
    {
     "name": "stdout",
     "output_type": "stream",
     "text": [
      "Model: \"sequential\"\n",
      "_________________________________________________________________\n",
      " Layer (type)                Output Shape              Param #   \n",
      "=================================================================\n",
      " dense (Dense)               (None, 64)                640       \n",
      "                                                                 \n",
      " dense_1 (Dense)             (None, 64)                4160      \n",
      "                                                                 \n",
      " dense_2 (Dense)             (None, 1)                 65        \n",
      "                                                                 \n",
      "=================================================================\n",
      "Total params: 4,865\n",
      "Trainable params: 4,865\n",
      "Non-trainable params: 0\n",
      "_________________________________________________________________\n"
     ]
    }
   ],
   "source": [
    "# Instantiating the model\n",
    "model = build_model()\n",
    "model.summary()"
   ]
  },
  {
   "cell_type": "code",
   "execution_count": 20,
   "id": "327ce390-d283-49ba-bc68-c74bc7a7dccf",
   "metadata": {},
   "outputs": [
    {
     "name": "stdout",
     "output_type": "stream",
     "text": [
      "Epoch 1/1000\n",
      "8/8 [==============================] - 2s 124ms/step - loss: 568.5611 - mae: 22.5956 - mse: 568.5611 - val_loss: 554.9382 - val_mae: 22.3001 - val_mse: 554.9382\n",
      "Epoch 2/1000\n",
      "8/8 [==============================] - 0s 14ms/step - loss: 511.8723 - mae: 21.3827 - mse: 511.8723 - val_loss: 495.7735 - val_mae: 20.9962 - val_mse: 495.7735\n",
      "Epoch 3/1000\n",
      "8/8 [==============================] - 0s 15ms/step - loss: 456.5231 - mae: 20.1230 - mse: 456.5231 - val_loss: 433.0129 - val_mae: 19.5266 - val_mse: 433.0129\n",
      "Epoch 4/1000\n",
      "8/8 [==============================] - 0s 14ms/step - loss: 398.1742 - mae: 18.7032 - mse: 398.1742 - val_loss: 368.4419 - val_mae: 17.8864 - val_mse: 368.4419\n",
      "Epoch 5/1000\n",
      "8/8 [==============================] - 0s 14ms/step - loss: 336.7921 - mae: 17.0905 - mse: 336.7921 - val_loss: 299.9591 - val_mae: 15.9890 - val_mse: 299.9591\n",
      "Epoch 6/1000\n",
      "8/8 [==============================] - 0s 9ms/step - loss: 273.3950 - mae: 15.2566 - mse: 273.3950 - val_loss: 233.9944 - val_mae: 13.9112 - val_mse: 233.9944\n",
      "Epoch 7/1000\n",
      "8/8 [==============================] - 0s 9ms/step - loss: 212.2524 - mae: 13.2878 - mse: 212.2524 - val_loss: 171.9266 - val_mae: 11.6497 - val_mse: 171.9266\n",
      "Epoch 8/1000\n",
      "8/8 [==============================] - 0s 9ms/step - loss: 156.2666 - mae: 11.2049 - mse: 156.2666 - val_loss: 120.2816 - val_mae: 9.4726 - val_mse: 120.2816\n",
      "Epoch 9/1000\n",
      "8/8 [==============================] - 0s 9ms/step - loss: 110.1460 - mae: 9.1678 - mse: 110.1460 - val_loss: 81.9048 - val_mae: 7.7543 - val_mse: 81.9048\n",
      "Epoch 10/1000\n",
      "8/8 [==============================] - 0s 9ms/step - loss: 75.5447 - mae: 7.2981 - mse: 75.5447 - val_loss: 57.4367 - val_mae: 6.5058 - val_mse: 57.4367\n",
      "Epoch 11/1000\n",
      "8/8 [==============================] - 0s 9ms/step - loss: 52.5853 - mae: 5.8015 - mse: 52.5853 - val_loss: 44.3974 - val_mae: 5.7347 - val_mse: 44.3974\n",
      "Epoch 12/1000\n",
      "8/8 [==============================] - 0s 9ms/step - loss: 38.9411 - mae: 4.8600 - mse: 38.9411 - val_loss: 38.6315 - val_mae: 5.1306 - val_mse: 38.6315\n",
      "Epoch 13/1000\n",
      "8/8 [==============================] - 0s 9ms/step - loss: 31.4836 - mae: 4.4020 - mse: 31.4836 - val_loss: 34.7347 - val_mae: 4.7183 - val_mse: 34.7347\n",
      "Epoch 14/1000\n",
      "8/8 [==============================] - 0s 9ms/step - loss: 26.8596 - mae: 4.0637 - mse: 26.8596 - val_loss: 31.3523 - val_mae: 4.3060 - val_mse: 31.3523\n",
      "Epoch 15/1000\n",
      "8/8 [==============================] - 0s 9ms/step - loss: 23.1500 - mae: 3.7624 - mse: 23.1500 - val_loss: 28.1236 - val_mae: 4.0562 - val_mse: 28.1236\n",
      "Epoch 16/1000\n",
      "8/8 [==============================] - 0s 9ms/step - loss: 20.3852 - mae: 3.5211 - mse: 20.3852 - val_loss: 25.3231 - val_mae: 3.8461 - val_mse: 25.3231\n",
      "Epoch 17/1000\n",
      "8/8 [==============================] - 0s 9ms/step - loss: 18.1207 - mae: 3.3211 - mse: 18.1207 - val_loss: 22.9016 - val_mae: 3.6276 - val_mse: 22.9016\n",
      "Epoch 18/1000\n",
      "8/8 [==============================] - 0s 9ms/step - loss: 16.3178 - mae: 3.1245 - mse: 16.3178 - val_loss: 20.7638 - val_mae: 3.3809 - val_mse: 20.7638\n",
      "Epoch 19/1000\n",
      "8/8 [==============================] - 0s 10ms/step - loss: 14.9294 - mae: 2.9544 - mse: 14.9294 - val_loss: 18.3094 - val_mae: 3.2867 - val_mse: 18.3094\n",
      "Epoch 20/1000\n",
      "8/8 [==============================] - 0s 9ms/step - loss: 13.8153 - mae: 2.7952 - mse: 13.8153 - val_loss: 16.6347 - val_mae: 3.1263 - val_mse: 16.6347\n",
      "Epoch 21/1000\n",
      "8/8 [==============================] - 0s 10ms/step - loss: 12.7879 - mae: 2.6732 - mse: 12.7879 - val_loss: 15.1461 - val_mae: 3.1268 - val_mse: 15.1461\n",
      "Epoch 22/1000\n",
      "8/8 [==============================] - 0s 9ms/step - loss: 12.2794 - mae: 2.5956 - mse: 12.2794 - val_loss: 13.8909 - val_mae: 2.8949 - val_mse: 13.8909\n",
      "Epoch 23/1000\n",
      "8/8 [==============================] - 0s 9ms/step - loss: 11.2755 - mae: 2.4529 - mse: 11.2755 - val_loss: 13.2497 - val_mae: 2.7823 - val_mse: 13.2497\n",
      "Epoch 24/1000\n",
      "8/8 [==============================] - 0s 10ms/step - loss: 10.7149 - mae: 2.3789 - mse: 10.7149 - val_loss: 12.2588 - val_mae: 2.7298 - val_mse: 12.2588\n",
      "Epoch 25/1000\n",
      "8/8 [==============================] - 0s 9ms/step - loss: 10.1021 - mae: 2.2772 - mse: 10.1021 - val_loss: 11.7380 - val_mae: 2.6359 - val_mse: 11.7380\n",
      "Epoch 26/1000\n",
      "8/8 [==============================] - 0s 9ms/step - loss: 9.6447 - mae: 2.2521 - mse: 9.6447 - val_loss: 12.1015 - val_mae: 2.5567 - val_mse: 12.1015\n",
      "Epoch 27/1000\n",
      "8/8 [==============================] - 0s 9ms/step - loss: 9.3722 - mae: 2.2067 - mse: 9.3722 - val_loss: 10.5850 - val_mae: 2.4641 - val_mse: 10.5850\n",
      "Epoch 28/1000\n",
      "8/8 [==============================] - 0s 9ms/step - loss: 9.3456 - mae: 2.1436 - mse: 9.3456 - val_loss: 10.5787 - val_mae: 2.4285 - val_mse: 10.5787\n",
      "Epoch 29/1000\n",
      "8/8 [==============================] - 0s 9ms/step - loss: 8.9419 - mae: 2.1047 - mse: 8.9419 - val_loss: 10.0477 - val_mae: 2.4461 - val_mse: 10.0477\n",
      "Epoch 30/1000\n",
      "8/8 [==============================] - 0s 9ms/step - loss: 8.7008 - mae: 2.0612 - mse: 8.7008 - val_loss: 9.9820 - val_mae: 2.4399 - val_mse: 9.9820\n",
      "Epoch 31/1000\n",
      "8/8 [==============================] - 0s 10ms/step - loss: 8.8325 - mae: 2.0519 - mse: 8.8325 - val_loss: 9.7899 - val_mae: 2.3472 - val_mse: 9.7899\n",
      "Epoch 32/1000\n",
      "8/8 [==============================] - 0s 10ms/step - loss: 8.4180 - mae: 2.0082 - mse: 8.4180 - val_loss: 9.6554 - val_mae: 2.3726 - val_mse: 9.6554\n",
      "Epoch 33/1000\n",
      "8/8 [==============================] - 0s 9ms/step - loss: 8.2276 - mae: 1.9837 - mse: 8.2276 - val_loss: 9.8072 - val_mae: 2.3212 - val_mse: 9.8072\n",
      "Epoch 34/1000\n",
      "8/8 [==============================] - 0s 9ms/step - loss: 8.2078 - mae: 1.9851 - mse: 8.2078 - val_loss: 9.9438 - val_mae: 2.3047 - val_mse: 9.9438\n",
      "Epoch 35/1000\n",
      "8/8 [==============================] - 0s 9ms/step - loss: 7.9057 - mae: 1.9732 - mse: 7.9057 - val_loss: 10.0180 - val_mae: 2.3105 - val_mse: 10.0180\n",
      "Epoch 36/1000\n",
      "8/8 [==============================] - 0s 9ms/step - loss: 8.0169 - mae: 1.9784 - mse: 8.0169 - val_loss: 9.5379 - val_mae: 2.3073 - val_mse: 9.5379\n",
      "Epoch 37/1000\n",
      "8/8 [==============================] - 0s 9ms/step - loss: 7.9517 - mae: 1.9541 - mse: 7.9517 - val_loss: 9.5646 - val_mae: 2.3852 - val_mse: 9.5646\n",
      "Epoch 38/1000\n",
      "8/8 [==============================] - 0s 10ms/step - loss: 7.7855 - mae: 1.9133 - mse: 7.7855 - val_loss: 9.3839 - val_mae: 2.3115 - val_mse: 9.3839\n",
      "Epoch 39/1000\n",
      "8/8 [==============================] - 0s 10ms/step - loss: 7.9073 - mae: 1.9399 - mse: 7.9073 - val_loss: 9.4044 - val_mae: 2.3442 - val_mse: 9.4044\n",
      "Epoch 40/1000\n",
      "8/8 [==============================] - 0s 9ms/step - loss: 7.8601 - mae: 1.9436 - mse: 7.8601 - val_loss: 9.2294 - val_mae: 2.2929 - val_mse: 9.2294\n",
      "Epoch 41/1000\n",
      "8/8 [==============================] - 0s 11ms/step - loss: 7.5944 - mae: 1.9218 - mse: 7.5944 - val_loss: 9.1180 - val_mae: 2.2973 - val_mse: 9.1180\n",
      "Epoch 42/1000\n",
      "8/8 [==============================] - 0s 9ms/step - loss: 7.4932 - mae: 1.8867 - mse: 7.4932 - val_loss: 9.2641 - val_mae: 2.3157 - val_mse: 9.2641\n",
      "Epoch 43/1000\n",
      "8/8 [==============================] - 0s 9ms/step - loss: 7.3661 - mae: 1.8943 - mse: 7.3661 - val_loss: 9.1389 - val_mae: 2.3230 - val_mse: 9.1389\n",
      "Epoch 44/1000\n",
      "8/8 [==============================] - 0s 9ms/step - loss: 7.5165 - mae: 1.9233 - mse: 7.5165 - val_loss: 9.4051 - val_mae: 2.2504 - val_mse: 9.4051\n",
      "Epoch 45/1000\n",
      "8/8 [==============================] - 0s 9ms/step - loss: 7.2729 - mae: 1.8765 - mse: 7.2729 - val_loss: 9.4784 - val_mae: 2.2547 - val_mse: 9.4784\n",
      "Epoch 46/1000\n",
      "8/8 [==============================] - 0s 9ms/step - loss: 7.5528 - mae: 1.9188 - mse: 7.5528 - val_loss: 9.2083 - val_mae: 2.3372 - val_mse: 9.2083\n",
      "Epoch 47/1000\n",
      "8/8 [==============================] - 0s 9ms/step - loss: 7.3433 - mae: 1.8811 - mse: 7.3433 - val_loss: 9.2401 - val_mae: 2.2671 - val_mse: 9.2401\n",
      "Epoch 48/1000\n",
      "8/8 [==============================] - 0s 9ms/step - loss: 7.2970 - mae: 1.8869 - mse: 7.2970 - val_loss: 9.1721 - val_mae: 2.2491 - val_mse: 9.1721\n",
      "Epoch 49/1000\n",
      "8/8 [==============================] - 0s 9ms/step - loss: 7.3485 - mae: 1.8834 - mse: 7.3485 - val_loss: 8.9417 - val_mae: 2.2745 - val_mse: 8.9417\n",
      "Epoch 50/1000\n",
      "8/8 [==============================] - 0s 10ms/step - loss: 7.0895 - mae: 1.8565 - mse: 7.0895 - val_loss: 9.0679 - val_mae: 2.3225 - val_mse: 9.0679\n",
      "Epoch 51/1000\n",
      "8/8 [==============================] - 0s 10ms/step - loss: 7.1562 - mae: 1.8789 - mse: 7.1562 - val_loss: 9.1506 - val_mae: 2.2629 - val_mse: 9.1506\n",
      "Epoch 52/1000\n",
      "8/8 [==============================] - 0s 11ms/step - loss: 7.2657 - mae: 1.8768 - mse: 7.2657 - val_loss: 9.0045 - val_mae: 2.2715 - val_mse: 9.0045\n",
      "Epoch 53/1000\n",
      "8/8 [==============================] - 0s 9ms/step - loss: 7.0167 - mae: 1.8331 - mse: 7.0167 - val_loss: 9.0764 - val_mae: 2.2467 - val_mse: 9.0764\n",
      "Epoch 54/1000\n",
      "8/8 [==============================] - 0s 9ms/step - loss: 6.9149 - mae: 1.8143 - mse: 6.9149 - val_loss: 10.3436 - val_mae: 2.2562 - val_mse: 10.3436\n",
      "Epoch 55/1000\n",
      "8/8 [==============================] - 0s 9ms/step - loss: 7.1261 - mae: 1.8836 - mse: 7.1261 - val_loss: 9.0858 - val_mae: 2.2363 - val_mse: 9.0858\n",
      "Epoch 56/1000\n",
      "8/8 [==============================] - 0s 9ms/step - loss: 6.9199 - mae: 1.8536 - mse: 6.9199 - val_loss: 8.8691 - val_mae: 2.3003 - val_mse: 8.8691\n",
      "Epoch 57/1000\n",
      "8/8 [==============================] - 0s 9ms/step - loss: 6.8791 - mae: 1.8437 - mse: 6.8791 - val_loss: 9.1243 - val_mae: 2.2264 - val_mse: 9.1243\n",
      "Epoch 58/1000\n",
      "8/8 [==============================] - 0s 9ms/step - loss: 6.7956 - mae: 1.8172 - mse: 6.7956 - val_loss: 9.4748 - val_mae: 2.2340 - val_mse: 9.4748\n",
      "Epoch 59/1000\n",
      "8/8 [==============================] - 0s 9ms/step - loss: 7.1055 - mae: 1.8758 - mse: 7.1055 - val_loss: 9.3343 - val_mae: 2.2184 - val_mse: 9.3343\n",
      "Epoch 60/1000\n",
      "8/8 [==============================] - 0s 9ms/step - loss: 6.6852 - mae: 1.8194 - mse: 6.6852 - val_loss: 10.3766 - val_mae: 2.2492 - val_mse: 10.3766\n",
      "Epoch 61/1000\n",
      "8/8 [==============================] - 0s 10ms/step - loss: 6.9368 - mae: 1.8593 - mse: 6.9368 - val_loss: 9.1611 - val_mae: 2.2194 - val_mse: 9.1611\n",
      "Epoch 62/1000\n",
      "8/8 [==============================] - 0s 9ms/step - loss: 6.8801 - mae: 1.8204 - mse: 6.8801 - val_loss: 8.9528 - val_mae: 2.2331 - val_mse: 8.9528\n",
      "Epoch 63/1000\n",
      "8/8 [==============================] - 0s 11ms/step - loss: 6.7124 - mae: 1.8296 - mse: 6.7124 - val_loss: 8.9942 - val_mae: 2.2256 - val_mse: 8.9942\n",
      "Epoch 64/1000\n",
      "8/8 [==============================] - 0s 9ms/step - loss: 6.6684 - mae: 1.8282 - mse: 6.6684 - val_loss: 9.0361 - val_mae: 2.2178 - val_mse: 9.0361\n",
      "Epoch 65/1000\n",
      "8/8 [==============================] - 0s 9ms/step - loss: 6.6961 - mae: 1.8477 - mse: 6.6961 - val_loss: 9.0463 - val_mae: 2.2262 - val_mse: 9.0463\n",
      "Epoch 66/1000\n",
      "8/8 [==============================] - 0s 9ms/step - loss: 6.6993 - mae: 1.8265 - mse: 6.6993 - val_loss: 8.9913 - val_mae: 2.3237 - val_mse: 8.9913\n"
     ]
    }
   ],
   "source": [
    "EPOCHS = 1000\n",
    "\n",
    "# The patience parameter is the amount of epochs to check for improvement\n",
    "early_stop = keras.callbacks.EarlyStopping(monitor='val_loss', patience=10)\n",
    "\n",
    "early_history = model.fit(normed_train_data, train_labels, \n",
    "                    epochs=EPOCHS, validation_split = 0.2, \n",
    "                    callbacks=[early_stop])"
   ]
  },
  {
   "cell_type": "code",
   "execution_count": 21,
   "id": "fb2d7292-3347-4bf4-b328-d570622c704f",
   "metadata": {},
   "outputs": [
    {
     "name": "stderr",
     "output_type": "stream",
     "text": [
      "2022-03-24 20:15:22.680152: W tensorflow/python/util/util.cc:368] Sets are not currently considered sequences, but this may change in the future, so consider avoiding using them.\n"
     ]
    },
    {
     "name": "stdout",
     "output_type": "stream",
     "text": [
      "INFO:tensorflow:Assets written to: gs://itam-dpa-2022-model2/mpg/model/assets\n"
     ]
    }
   ],
   "source": [
    "# Export model and save to GCS\n",
    "model.save(BUCKET + '/mpg/model')"
   ]
  },
  {
   "cell_type": "markdown",
   "id": "4ad147fe-507d-477d-8fc1-209692388516",
   "metadata": {},
   "source": [
    "### Packaging everything in a Docker container"
   ]
  },
  {
   "cell_type": "code",
   "execution_count": 22,
   "id": "da939ba4-5653-47db-9f58-e5068101e61d",
   "metadata": {},
   "outputs": [
    {
     "name": "stdout",
     "output_type": "stream",
     "text": [
      "mkdir: cannot create directory ‘mpg’: File exists\n"
     ]
    }
   ],
   "source": [
    "# Creating some files\n",
    "!mkdir mpg && cd mpg && mkdir trainer"
   ]
  },
  {
   "cell_type": "code",
   "execution_count": 23,
   "id": "be25e5f5-a4e9-4eb9-b264-d6d9a401b8df",
   "metadata": {},
   "outputs": [
    {
     "name": "stdout",
     "output_type": "stream",
     "text": [
      "Overwriting /home/jupyter/model2/mpg/Dockerfile\n"
     ]
    }
   ],
   "source": [
    "%%writefile /home/jupyter/model2/mpg/Dockerfile\n",
    "FROM gcr.io/deeplearning-platform-release/tf2-cpu.2-3\n",
    "WORKDIR /\n",
    "\n",
    "# Copies the trainer code to the docker image.\n",
    "COPY trainer /trainer\n",
    "\n",
    "# Sets up the entry point to invoke the trainer.\n",
    "ENTRYPOINT [\"python\", \"-m\", \"trainer.train\"]"
   ]
  },
  {
   "cell_type": "code",
   "execution_count": 24,
   "id": "110cc693-4b18-4bb1-ae25-401e6d1cdba5",
   "metadata": {},
   "outputs": [
    {
     "name": "stdout",
     "output_type": "stream",
     "text": [
      "Overwriting /home/jupyter/model2/mpg/trainer/train.py\n"
     ]
    }
   ],
   "source": [
    "%%writefile /home/jupyter/model2/mpg/trainer/train.py\n",
    "# Training script\n",
    "BUCKET = \"gs://itam-dpa-2022-model2\"\n",
    "\n",
    "import numpy as np\n",
    "import pandas as pd\n",
    "import pathlib\n",
    "import tensorflow as tf\n",
    "\n",
    "from tensorflow import keras\n",
    "from tensorflow.keras import layers\n",
    "\n",
    "print(tf.__version__)\n",
    "\n",
    "#importing data\n",
    "dataset_path = \"https://storage.googleapis.com/io-vertex-codelab/auto-mpg.csv\"\n",
    "dataset = pd.read_csv(dataset_path, na_values = \"?\")\n",
    "dataset.pop(\"car name\")\n",
    "dataset.tail()\n",
    "\n",
    "\n",
    "#checking na's\n",
    "dataset.isna().sum()\n",
    "\n",
    "#dropping na's\n",
    "dataset = dataset.dropna()\n",
    "\n",
    "#feature engineering\n",
    "dataset['origin'] = dataset['origin'].map({1: 'USA', 2: 'Europe', 3: 'Japan'})\n",
    "dataset = pd.get_dummies(dataset, prefix='', prefix_sep='')\n",
    "dataset.tail()\n",
    "\n",
    "#spliting data\n",
    "train_dataset = dataset.sample(frac=0.8,random_state=0)\n",
    "test_dataset = dataset.drop(train_dataset.index)\n",
    "\n",
    "#calculating statistics for normalization\n",
    "train_stats = train_dataset.describe()\n",
    "train_stats.pop(\"mpg\")\n",
    "train_stats = train_stats.transpose()\n",
    "train_stats\n",
    "\n",
    "#getting labels\n",
    "train_labels = train_dataset.pop('mpg')\n",
    "test_labels = test_dataset.pop('mpg')\n",
    "\n",
    "#normalize data\n",
    "def norm(x):\n",
    "  return (x - train_stats['mean']) / train_stats['std']\n",
    "normed_train_data = norm(train_dataset)\n",
    "normed_test_data = norm(test_dataset)\n",
    "\n",
    "\n",
    "#build the model \n",
    "def build_model():\n",
    "  model = keras.Sequential([\n",
    "    layers.Dense(64, activation='relu', input_shape=[len(train_dataset.keys())]),\n",
    "    layers.Dense(64, activation='relu'),\n",
    "    layers.Dense(1)\n",
    "  ])\n",
    "\n",
    "  optimizer = tf.keras.optimizers.RMSprop(0.001)\n",
    "\n",
    "  model.compile(loss='mse', optimizer=optimizer, metrics=['mae', 'mse'])\n",
    "  return model\n",
    "\n",
    "model = build_model()\n",
    "model.summary()\n",
    "\n",
    "EPOCHS = 1000\n",
    "early_stop = keras.callbacks.EarlyStopping(monitor='val_loss', patience=10)\n",
    "early_history = model.fit(normed_train_data, train_labels, epochs=EPOCHS, validation_split = 0.2, callbacks=[early_stop])\n",
    "\n",
    "# Export model and save to GCS\n",
    "model.save(BUCKET + '/mpg/model')"
   ]
  },
  {
   "cell_type": "markdown",
   "id": "6c4360a3-48c2-40f6-8ba1-62533a0cbc33",
   "metadata": {},
   "source": [
    "# ML Engineer Work: who is responsible for the next part?\n",
    "In an organization, it's common to have one team or individual in charge of building the model, and a different team in charge of deploying it. The steps we'll go through here will show you how to take a model that's already been trained and deploy it for prediction."
   ]
  },
  {
   "cell_type": "markdown",
   "id": "a5d72cf1-1ed2-4017-8932-16eefcc2f409",
   "metadata": {},
   "source": [
    "### Building the Docker image and saving into the Container Registry "
   ]
  },
  {
   "cell_type": "markdown",
   "id": "71bc20c2-a74c-43cc-a87d-d2432b28e89e",
   "metadata": {},
   "source": [
    "**Note**: \n",
    "1) You have to enable manually the Cloud Build API in https://console.cloud.google.com/marketplace/product/google/cloudbuild.googleapis.com\n",
    "2) You have to enable service account permissions in https://console.cloud.google.com/cloud-build/settings/service-account?project=itam-dpa-2022"
   ]
  },
  {
   "cell_type": "code",
   "execution_count": 25,
   "id": "2515679e-2b39-4b14-8ab9-0d9e538e1eb1",
   "metadata": {},
   "outputs": [
    {
     "name": "stdout",
     "output_type": "stream",
     "text": [
      "Creating temporary tarball archive of 4 file(s) totalling 4.1 KiB before compression.\n",
      "Uploading tarball of [./mpg/] to [gs://itam-dpa-2022_cloudbuild/source/1648152930.753758-f911276dbea8476589be2e2bedaf999a.tgz]\n",
      "Created [https://cloudbuild.googleapis.com/v1/projects/itam-dpa-2022/locations/global/builds/73f85638-8bf9-4cc9-a664-586847907fbc].\n",
      "Logs are available at [https://console.cloud.google.com/cloud-build/builds/73f85638-8bf9-4cc9-a664-586847907fbc?project=171673689672].\n",
      "----------------------------- REMOTE BUILD OUTPUT ------------------------------\n",
      "starting build \"73f85638-8bf9-4cc9-a664-586847907fbc\"\n",
      "\n",
      "FETCHSOURCE\n",
      "Fetching storage object: gs://itam-dpa-2022_cloudbuild/source/1648152930.753758-f911276dbea8476589be2e2bedaf999a.tgz#1648152930951771\n",
      "Copying gs://itam-dpa-2022_cloudbuild/source/1648152930.753758-f911276dbea8476589be2e2bedaf999a.tgz#1648152930951771...\n",
      "/ [1 files][  1.6 KiB/  1.6 KiB]                                                \n",
      "Operation completed over 1 objects/1.6 KiB.\n",
      "BUILD\n",
      "Already have image (with digest): gcr.io/cloud-builders/docker\n",
      "Sending build context to Docker daemon  9.728kB\n",
      "Step 1/4 : FROM gcr.io/deeplearning-platform-release/tf2-cpu.2-3\n",
      "latest: Pulling from deeplearning-platform-release/tf2-cpu.2-3\n",
      "7c3b88808835: Already exists\n",
      "382fcf64a9ea: Pulling fs layer\n",
      "d764c2aa40d3: Pulling fs layer\n",
      "90cc2e264020: Pulling fs layer\n",
      "4f4fb700ef54: Pulling fs layer\n",
      "395e65f0ab42: Pulling fs layer\n",
      "9e19ad4dbd7d: Pulling fs layer\n",
      "957c609522d8: Pulling fs layer\n",
      "6a5e2168e631: Pulling fs layer\n",
      "5740bb01bc78: Pulling fs layer\n",
      "be09da654f5c: Pulling fs layer\n",
      "288d40a4f176: Pulling fs layer\n",
      "e2d3eec75c0c: Pulling fs layer\n",
      "3769728eb7d7: Pulling fs layer\n",
      "211e30f752a4: Pulling fs layer\n",
      "ae6a5f7af5b1: Pulling fs layer\n",
      "ffe1873bc2e0: Pulling fs layer\n",
      "a3bf3aa6e8c6: Pulling fs layer\n",
      "6b6a62bdf93d: Pulling fs layer\n",
      "a6fec16c39f2: Pulling fs layer\n",
      "4f4fb700ef54: Waiting\n",
      "395e65f0ab42: Waiting\n",
      "9e19ad4dbd7d: Waiting\n",
      "957c609522d8: Waiting\n",
      "6a5e2168e631: Waiting\n",
      "5740bb01bc78: Waiting\n",
      "be09da654f5c: Waiting\n",
      "288d40a4f176: Waiting\n",
      "e2d3eec75c0c: Waiting\n",
      "3769728eb7d7: Waiting\n",
      "211e30f752a4: Waiting\n",
      "ae6a5f7af5b1: Waiting\n",
      "ffe1873bc2e0: Waiting\n",
      "a3bf3aa6e8c6: Waiting\n",
      "6b6a62bdf93d: Waiting\n",
      "a6fec16c39f2: Waiting\n",
      "382fcf64a9ea: Verifying Checksum\n",
      "382fcf64a9ea: Download complete\n",
      "4f4fb700ef54: Verifying Checksum\n",
      "4f4fb700ef54: Download complete\n",
      "382fcf64a9ea: Pull complete\n",
      "395e65f0ab42: Verifying Checksum\n",
      "395e65f0ab42: Download complete\n",
      "9e19ad4dbd7d: Verifying Checksum\n",
      "9e19ad4dbd7d: Download complete\n",
      "957c609522d8: Verifying Checksum\n",
      "957c609522d8: Download complete\n",
      "6a5e2168e631: Verifying Checksum\n",
      "6a5e2168e631: Download complete\n",
      "90cc2e264020: Verifying Checksum\n",
      "90cc2e264020: Download complete\n",
      "be09da654f5c: Verifying Checksum\n",
      "be09da654f5c: Download complete\n",
      "5740bb01bc78: Verifying Checksum\n",
      "5740bb01bc78: Download complete\n",
      "288d40a4f176: Verifying Checksum\n",
      "288d40a4f176: Download complete\n",
      "3769728eb7d7: Verifying Checksum\n",
      "3769728eb7d7: Download complete\n",
      "e2d3eec75c0c: Verifying Checksum\n",
      "e2d3eec75c0c: Download complete\n",
      "ae6a5f7af5b1: Verifying Checksum\n",
      "ae6a5f7af5b1: Download complete\n",
      "211e30f752a4: Verifying Checksum\n",
      "211e30f752a4: Download complete\n",
      "a3bf3aa6e8c6: Verifying Checksum\n",
      "a3bf3aa6e8c6: Download complete\n",
      "6b6a62bdf93d: Verifying Checksum\n",
      "6b6a62bdf93d: Download complete\n",
      "d764c2aa40d3: Verifying Checksum\n",
      "d764c2aa40d3: Download complete\n",
      "a6fec16c39f2: Verifying Checksum\n",
      "a6fec16c39f2: Download complete\n",
      "ffe1873bc2e0: Verifying Checksum\n",
      "ffe1873bc2e0: Download complete\n",
      "d764c2aa40d3: Pull complete\n",
      "90cc2e264020: Pull complete\n",
      "4f4fb700ef54: Pull complete\n",
      "395e65f0ab42: Pull complete\n",
      "9e19ad4dbd7d: Pull complete\n",
      "957c609522d8: Pull complete\n",
      "6a5e2168e631: Pull complete\n",
      "5740bb01bc78: Pull complete\n",
      "be09da654f5c: Pull complete\n",
      "288d40a4f176: Pull complete\n",
      "e2d3eec75c0c: Pull complete\n",
      "3769728eb7d7: Pull complete\n",
      "211e30f752a4: Pull complete\n",
      "ae6a5f7af5b1: Pull complete\n",
      "ffe1873bc2e0: Pull complete\n",
      "a3bf3aa6e8c6: Pull complete\n",
      "6b6a62bdf93d: Pull complete\n",
      "a6fec16c39f2: Pull complete\n",
      "Digest: sha256:d61c159bd998f00f57867e1c715177fb9ebb96e130cf60c9017a8b6dba782c46\n",
      "Status: Downloaded newer image for gcr.io/deeplearning-platform-release/tf2-cpu.2-3:latest\n",
      " ---> 1fdfb6e767fe\n",
      "Step 2/4 : WORKDIR /\n",
      " ---> Running in f8cfa1e7ca4a\n",
      "Removing intermediate container f8cfa1e7ca4a\n",
      " ---> 27db140ec8f8\n",
      "Step 3/4 : COPY trainer /trainer\n",
      " ---> 367004a53772\n",
      "Step 4/4 : ENTRYPOINT [\"python\", \"-m\", \"trainer.train\"]\n",
      " ---> Running in 03e909a22e1e\n",
      "Removing intermediate container 03e909a22e1e\n",
      " ---> 9512c36907be\n",
      "Successfully built 9512c36907be\n",
      "Successfully tagged gcr.io/itam-dpa-2022/mpg:v4\n",
      "PUSH\n",
      "Pushing gcr.io/itam-dpa-2022/mpg:v4\n",
      "The push refers to repository [gcr.io/itam-dpa-2022/mpg]\n",
      "20c2ec29b73e: Preparing\n",
      "555fdf428d24: Preparing\n",
      "ab1c7aa87923: Preparing\n",
      "3db6af295f89: Preparing\n",
      "7d3391940b32: Preparing\n",
      "b3ab95a574c8: Preparing\n",
      "d1b010151b48: Preparing\n",
      "b80bc089358e: Preparing\n",
      "11bc9b36546a: Preparing\n",
      "43d282ce8d0b: Preparing\n",
      "69fd467ac3a5: Preparing\n",
      "ed4291c31559: Preparing\n",
      "4bf5ae11254c: Preparing\n",
      "0d592bcbe281: Preparing\n",
      "770c4c112e39: Preparing\n",
      "1874048fd290: Preparing\n",
      "5f70bf18a086: Preparing\n",
      "7e897a45d8d8: Preparing\n",
      "42826651fb01: Preparing\n",
      "4236d5cafaa0: Preparing\n",
      "68a85fa9d77e: Preparing\n",
      "ed4291c31559: Waiting\n",
      "4bf5ae11254c: Waiting\n",
      "0d592bcbe281: Waiting\n",
      "770c4c112e39: Waiting\n",
      "1874048fd290: Waiting\n",
      "5f70bf18a086: Waiting\n",
      "7e897a45d8d8: Waiting\n",
      "42826651fb01: Waiting\n",
      "4236d5cafaa0: Waiting\n",
      "68a85fa9d77e: Waiting\n",
      "b3ab95a574c8: Waiting\n",
      "d1b010151b48: Waiting\n",
      "43d282ce8d0b: Waiting\n",
      "b80bc089358e: Waiting\n",
      "11bc9b36546a: Waiting\n",
      "69fd467ac3a5: Waiting\n",
      "3db6af295f89: Layer already exists\n",
      "7d3391940b32: Layer already exists\n",
      "ab1c7aa87923: Layer already exists\n",
      "555fdf428d24: Layer already exists\n",
      "11bc9b36546a: Layer already exists\n",
      "b3ab95a574c8: Layer already exists\n",
      "b80bc089358e: Layer already exists\n",
      "43d282ce8d0b: Layer already exists\n",
      "ed4291c31559: Layer already exists\n",
      "d1b010151b48: Layer already exists\n",
      "69fd467ac3a5: Layer already exists\n",
      "4bf5ae11254c: Layer already exists\n",
      "0d592bcbe281: Layer already exists\n",
      "770c4c112e39: Layer already exists\n",
      "1874048fd290: Layer already exists\n",
      "5f70bf18a086: Layer already exists\n",
      "42826651fb01: Layer already exists\n",
      "4236d5cafaa0: Layer already exists\n",
      "68a85fa9d77e: Layer already exists\n",
      "7e897a45d8d8: Layer already exists\n",
      "20c2ec29b73e: Pushed\n",
      "v4: digest: sha256:e7f3e9c13cf9e519f2adeeb185ab547a5941a1076eed4faa4540cb97a4211dec size: 4713\n",
      "DONE\n",
      "--------------------------------------------------------------------------------\n",
      "ID                                    CREATE_TIME                DURATION  SOURCE                                                                                       IMAGES                       STATUS\n",
      "73f85638-8bf9-4cc9-a664-586847907fbc  2022-03-24T20:15:31+00:00  2M25S     gs://itam-dpa-2022_cloudbuild/source/1648152930.753758-f911276dbea8476589be2e2bedaf999a.tgz  gcr.io/itam-dpa-2022/mpg:v4  SUCCESS\n"
     ]
    }
   ],
   "source": [
    "# Submitting the a docler build job to Google Cloud Build --be carefull to point to the Dockerfile\n",
    "!gcloud builds submit --tag gcr.io/itam-dpa-2022/mpg:v4 ./mpg/"
   ]
  },
  {
   "cell_type": "markdown",
   "id": "151f7d49-c816-410e-9195-32cc1d5f5127",
   "metadata": {},
   "source": [
    "# Submit a training job in GCP using the UI\n",
    "\n",
    "https://console.cloud.google.com/vertex-ai/training/training-pipelines?project=itam-dpa-2022\n",
    "https://cloud.google.com/vertex-ai/docs/training/custom-training"
   ]
  },
  {
   "cell_type": "markdown",
   "id": "f1b499bd-7ead-46b4-9419-eab383555ac4",
   "metadata": {},
   "source": [
    "# Endpoint Deployment"
   ]
  },
  {
   "cell_type": "code",
   "execution_count": 26,
   "id": "484f7aa5-9604-495c-a118-ce4fa27bf2d1",
   "metadata": {},
   "outputs": [
    {
     "name": "stdout",
     "output_type": "stream",
     "text": [
      "INFO:google.cloud.aiplatform.models:Creating Model\n",
      "INFO:google.cloud.aiplatform.models:Create Model backing LRO: projects/171673689672/locations/us-central1/models/335258687494946816/operations/2945849555008094208\n",
      "INFO:google.cloud.aiplatform.models:Model created. Resource name: projects/171673689672/locations/us-central1/models/335258687494946816\n",
      "INFO:google.cloud.aiplatform.models:To use this Model in another session:\n",
      "INFO:google.cloud.aiplatform.models:model = aiplatform.Model('projects/171673689672/locations/us-central1/models/335258687494946816')\n"
     ]
    }
   ],
   "source": [
    "from google.cloud import aiplatform\n",
    "\n",
    "# Create a model resource from public model assets\n",
    "model = aiplatform.Model.upload(\n",
    "    display_name=\"itam_dpa_2022_mpg_regression\",\n",
    "    artifact_uri=\"gs://itam-dpa-2022-model2/mpg/model/\",\n",
    "    serving_container_image_uri=\"gcr.io/cloud-aiplatform/prediction/tf2-cpu.2-3:latest\"\n",
    ")"
   ]
  },
  {
   "cell_type": "code",
   "execution_count": 27,
   "id": "25d93368-81c4-4ccf-84c7-499562189b72",
   "metadata": {},
   "outputs": [
    {
     "data": {
      "text/plain": [
       "<google.cloud.aiplatform.models.Model object at 0x7faa4ab63c50> \n",
       "resource name: projects/171673689672/locations/us-central1/models/335258687494946816"
      ]
     },
     "execution_count": 27,
     "metadata": {},
     "output_type": "execute_result"
    }
   ],
   "source": [
    "model"
   ]
  },
  {
   "cell_type": "code",
   "execution_count": 28,
   "id": "3e8d63e1-0363-4ce5-ad50-635009126dae",
   "metadata": {},
   "outputs": [
    {
     "name": "stdout",
     "output_type": "stream",
     "text": [
      "INFO:google.cloud.aiplatform.models:Creating Endpoint\n",
      "INFO:google.cloud.aiplatform.models:Create Endpoint backing LRO: projects/171673689672/locations/us-central1/endpoints/1769254946579939328/operations/4661721013036253184\n",
      "INFO:google.cloud.aiplatform.models:Endpoint created. Resource name: projects/171673689672/locations/us-central1/endpoints/1769254946579939328\n",
      "INFO:google.cloud.aiplatform.models:To use this Endpoint in another session:\n",
      "INFO:google.cloud.aiplatform.models:endpoint = aiplatform.Endpoint('projects/171673689672/locations/us-central1/endpoints/1769254946579939328')\n",
      "INFO:google.cloud.aiplatform.models:Deploying model to Endpoint : projects/171673689672/locations/us-central1/endpoints/1769254946579939328\n",
      "INFO:google.cloud.aiplatform.models:Deploy Endpoint model backing LRO: projects/171673689672/locations/us-central1/endpoints/1769254946579939328/operations/7602571569709187072\n",
      "INFO:google.cloud.aiplatform.models:Endpoint model deployed. Resource name: projects/171673689672/locations/us-central1/endpoints/1769254946579939328\n"
     ]
    }
   ],
   "source": [
    "# Deploy the above model to an endpoint\n",
    "endpoint = model.deploy(\n",
    "    machine_type=\"n1-standard-4\"\n",
    ")"
   ]
  },
  {
   "cell_type": "code",
   "execution_count": 29,
   "id": "1e97d210-e2e6-4ee6-8be7-0b3ca9570571",
   "metadata": {},
   "outputs": [
    {
     "data": {
      "text/plain": [
       "<google.cloud.aiplatform.models.Endpoint object at 0x7faa4ada0890> \n",
       "resource name: projects/171673689672/locations/us-central1/endpoints/1769254946579939328"
      ]
     },
     "execution_count": 29,
     "metadata": {},
     "output_type": "execute_result"
    }
   ],
   "source": [
    "endpoint"
   ]
  },
  {
   "cell_type": "markdown",
   "id": "85dada29-c489-4884-acac-203d3597d2d2",
   "metadata": {},
   "source": [
    "# Making a prediction from an End-point"
   ]
  },
  {
   "cell_type": "code",
   "execution_count": 30,
   "id": "89283c78-4c35-4ffa-a1eb-0a99c0ebb67f",
   "metadata": {},
   "outputs": [
    {
     "name": "stdout",
     "output_type": "stream",
     "text": [
      "API response:  Prediction(predictions=[[16.4352493]], deployed_model_id='6716793388781273088', explanations=None)\n",
      "Predicted MPG:  16.4352493\n"
     ]
    }
   ],
   "source": [
    "from google.cloud import aiplatform\n",
    "\n",
    "endpoint = aiplatform.Endpoint(\n",
    "    endpoint_name=\"projects/171673689672/locations/us-central1/endpoints/1769254946579939328\"\n",
    ")\n",
    "\n",
    "# A test example we'll send to our model for prediction\n",
    "test_mpg = [1.4838871833555929, 1.8659883497083019, 2.234620276849616, 1.0187816540094903, -2.530890710602246, -1.6046416850441676, -0.4651483719733302, -0.4952254087173721, 0.7746763768735953]\n",
    "\n",
    "response = endpoint.predict([test_mpg])\n",
    "\n",
    "print('API response: ', response)\n",
    "\n",
    "print('Predicted MPG: ', response.predictions[0][0])"
   ]
  },
  {
   "cell_type": "markdown",
   "id": "877f8240-1721-4854-8980-3da452cc9e20",
   "metadata": {},
   "source": [
    "# Reference\n",
    "For more information visit:\n",
    "- [codelab](https://codelabs.developers.google.com/codelabs/vertex-ai-custom-models#0)\n",
    "- [video tutorial](https://youtu.be/aB2OxnyfP0c)\n",
    "\n",
    "Thanks Sarah Robinson"
   ]
  }
 ],
 "metadata": {
  "environment": {
   "kernel": "python3",
   "name": "managed-notebooks.m90",
   "type": "gcloud",
   "uri": "gcr.io/deeplearning-platform-release/tf2-gpu:latest"
  },
  "kernelspec": {
   "display_name": "TensorFlow 2 (Local)",
   "language": "python",
   "name": "local-tf2"
  },
  "language_info": {
   "codemirror_mode": {
    "name": "ipython",
    "version": 3
   },
   "file_extension": ".py",
   "mimetype": "text/x-python",
   "name": "python",
   "nbconvert_exporter": "python",
   "pygments_lexer": "ipython3",
   "version": "3.7.12"
  }
 },
 "nbformat": 4,
 "nbformat_minor": 5
}
